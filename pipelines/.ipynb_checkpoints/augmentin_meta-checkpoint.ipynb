{
 "cells": [
  {
   "cell_type": "code",
   "execution_count": 1,
   "metadata": {},
   "outputs": [],
   "source": [
    "from metavirus import pipeline\n",
    "import os\n",
    "import time\n",
    "import multiprocessing"
   ]
  },
  {
   "cell_type": "code",
   "execution_count": 2,
   "metadata": {},
   "outputs": [],
   "source": [
    "input_dir = '/data/meta_augmentin/meta_raw_data/combined'\n",
    "virus_pipeline = pipeline.virus_NO2('augmentin_meta', input_dir, \n",
    "                                    project_dir='/data2/meta_augmentin_analysis/augmentin_results')"
   ]
  },
  {
   "cell_type": "code",
   "execution_count": null,
   "metadata": {},
   "outputs": [],
   "source": [
    "if __name__ == \"__main__\":\n",
    "\n",
    "    input_files = virus_pipeline.readin_module.run(input_dir)\n",
    "    adapter_files = virus_pipeline.adapter_module.run(input_files)\n",
    "    phix_files = virus_pipeline.phix_module.run(adapter_files)\n",
    "    human_files = virus_pipeline.human_module.run(phix_files)\n",
    "    virus_pipeline.fastq_module.run(primer_files)"
   ]
  }
 ],
 "metadata": {
  "kernelspec": {
   "display_name": "Python 3",
   "language": "python",
   "name": "python3"
  },
  "language_info": {
   "codemirror_mode": {
    "name": "ipython",
    "version": 3
   },
   "file_extension": ".py",
   "mimetype": "text/x-python",
   "name": "python",
   "nbconvert_exporter": "python",
   "pygments_lexer": "ipython3",
   "version": "3.7.7"
  }
 },
 "nbformat": 4,
 "nbformat_minor": 4
}
