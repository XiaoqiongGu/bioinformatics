{
 "cells": [
  {
   "cell_type": "code",
   "execution_count": 1,
   "metadata": {},
   "outputs": [],
   "source": [
    "from metavirus import pipeline\n",
    "import os\n",
    "import time\n",
    "import multiprocessing"
   ]
  },
  {
   "cell_type": "code",
   "execution_count": 2,
   "metadata": {},
   "outputs": [],
   "source": [
    "input_dir = '/data/wastewater/INF/input'\n",
    "virus_pipeline = pipeline.virus_NO1('INF_result', input_dir)"
   ]
  },
  {
   "cell_type": "code",
   "execution_count": 3,
   "metadata": {},
   "outputs": [],
   "source": [
    "phix_files = [['/data/wastewater/INF/INF_result/phix/INF_5_S2_R1_001.fastq.gz',\n",
    "  '/data/wastewater/INF/INF_result/phix/INF_5_S2_R2_001.fastq.gz'],\n",
    " ['/data/wastewater/INF/INF_result/phix/INF_8_S2_R1_001.fastq.gz',\n",
    "  '/data/wastewater/INF/INF_result/phix/INF_8_S2_R2_001.fastq.gz'],\n",
    " ['/data/wastewater/INF/INF_result/phix/INF_3_S7_R1_001.fastq.gz',\n",
    "  '/data/wastewater/INF/INF_result/phix/INF_3_S7_R2_001.fastq.gz'],\n",
    " ['/data/wastewater/INF/INF_result/phix/INF_1_S1_R1_001.fastq.gz',\n",
    "  '/data/wastewater/INF/INF_result/phix/INF_1_S1_R2_001.fastq.gz'],\n",
    " ['/data/wastewater/INF/INF_result/phix/INF_6_S8_R1_001.fastq.gz',\n",
    "  '/data/wastewater/INF/INF_result/phix/INF_6_S8_R2_001.fastq.gz']]"
   ]
  },
  {
   "cell_type": "code",
   "execution_count": 3,
   "metadata": {},
   "outputs": [],
   "source": [
    "phix_files = [['/data/wastewater/INF/INF_result/phix/INF_5_S2_R1_001.fastq.gz',\n",
    "  '/data/wastewater/INF/INF_result/phix/INF_5_S2_R2_001.fastq.gz']]"
   ]
  },
  {
   "cell_type": "code",
   "execution_count": 3,
   "metadata": {},
   "outputs": [],
   "source": [
    "primer_files=[['/data/wastewater/INF/INF_result/primer/INF_5_S2_R1_001.fastq.gz',\n",
    "  '/data/wastewater/INF/INF_result/primer/INF_5_S2_R2_001.fastq.gz']]"
   ]
  },
  {
   "cell_type": "code",
   "execution_count": 4,
   "metadata": {
    "scrolled": false
   },
   "outputs": [],
   "source": [
    "if __name__ == \"__main__\":\n",
    "\n",
    "    #input_files = virus_pipeline.readin_module.run(input_dir)\n",
    "    #adapter_files = virus_pipeline.adapter_module.run(input_files)\n",
    "    #phix_files = virus_pipeline.phix_module.run(adapter_files)\n",
    "    #primer_files = virus_pipeline.primer_module.run(phix_files)\n",
    "    virus_pipeline.fastq_module.run(primer_files)\n",
    "    #metaspade_cross = virus_pipeline.metaspade_module.run_cross(primer_files)"
   ]
  },
  {
   "cell_type": "code",
   "execution_count": 5,
   "metadata": {
    "scrolled": false
   },
   "outputs": [
    {
     "data": {
      "text/plain": [
       "[['/data/wastewater/INF/INF_result/primer/INF_5_S2_R1_001.fastq.gz',\n",
       "  '/data/wastewater/INF/INF_result/primer/INF_5_S2_R2_001.fastq.gz']]"
      ]
     },
     "execution_count": 5,
     "metadata": {},
     "output_type": "execute_result"
    }
   ],
   "source": []
  },
  {
   "cell_type": "code",
   "execution_count": null,
   "metadata": {},
   "outputs": [],
   "source": [
    "bbmap.sh minid=0.95 maxindel=3 bwr=0.16 bw=12 quickmatch fast minhits=2 path=/data/tools/BBMap/resources/human/ qtrim=rl trimq=10 untrim -Xmx23g in1=/data/wastewater/INF/INF_result/phix/INF_5_S2_R1_001.fastq.gz in2=/data/wastewater/INF/INF_result/phix/INF_5_S2_R2_001.fastq.gz outu1=clean1.fastq.gz outu2=clean2.fastq.gz outm=human.fq"
   ]
  },
  {
   "cell_type": "code",
   "execution_count": null,
   "metadata": {},
   "outputs": [],
   "source": []
  }
 ],
 "metadata": {
  "kernelspec": {
   "display_name": "Python 3",
   "language": "python",
   "name": "python3"
  },
  "language_info": {
   "codemirror_mode": {
    "name": "ipython",
    "version": 3
   },
   "file_extension": ".py",
   "mimetype": "text/x-python",
   "name": "python",
   "nbconvert_exporter": "python",
   "pygments_lexer": "ipython3",
   "version": "3.7.7"
  }
 },
 "nbformat": 4,
 "nbformat_minor": 4
}
