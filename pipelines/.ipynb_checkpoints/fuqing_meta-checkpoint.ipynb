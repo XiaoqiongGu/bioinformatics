{
 "cells": [
  {
   "cell_type": "code",
   "execution_count": 1,
   "source": [
    "from metavirus import pipeline\n",
    "import os\n",
    "import time\n",
    "import multiprocessing"
   ],
   "outputs": [],
   "metadata": {}
  },
  {
   "cell_type": "code",
   "execution_count": 2,
   "source": [
    "input_dir = '/data3/fuqing/metagenome/combined'\n",
    "virus_pipeline = pipeline.virus_NO2('augmentin_meta', input_dir, project_dir='/data3/fuqing/metagenome/analysis')"
   ],
   "outputs": [],
   "metadata": {}
  },
  {
   "cell_type": "code",
   "execution_count": null,
   "source": [
    "if __name__ == \"__main__\":\n",
    "\n",
    "    input_files = virus_pipeline.readin_module.run(input_dir)\n",
    "    adapter_files = virus_pipeline.adapter_module.run(input_files)\n",
    "    phix_files = virus_pipeline.phix_module.run(adapter_files)\n",
    "    human_files = virus_pipeline.human_module.run(phix_files)\n",
    "    virus_pipeline.fastq_module.run(primer_files)"
   ],
   "outputs": [],
   "metadata": {}
  },
  {
   "cell_type": "code",
   "execution_count": 37,
   "source": [
    "if __name__ == \"__main__\":\n",
    "    megahit_indi = virus_pipeline.megahit_module.run_indiviudal(new_human_files)"
   ],
   "outputs": [],
   "metadata": {}
  },
  {
   "cell_type": "code",
   "execution_count": 3,
   "source": [
    "import glob\n",
    "input = glob.glob('/data3/fuqing/metagenome/analysis/megahit/*/*_contigs.fasta')\n",
    "input"
   ],
   "outputs": [
    {
     "output_type": "execute_result",
     "data": {
      "text/plain": [
       "['/data3/fuqing/metagenome/analysis/megahit/210512Alm_D21-203133_contigs/210512Alm_D21-203133_contigs.fasta',\n",
       " '/data3/fuqing/metagenome/analysis/megahit/210512Alm_D21-203134_contigs/210512Alm_D21-203134_contigs.fasta',\n",
       " '/data3/fuqing/metagenome/analysis/megahit/210512Alm_D21-203348_contigs/210512Alm_D21-203348_contigs.fasta',\n",
       " '/data3/fuqing/metagenome/analysis/megahit/210512Alm_D21-203350_contigs/210512Alm_D21-203350_contigs.fasta']"
      ]
     },
     "metadata": {},
     "execution_count": 3
    }
   ],
   "metadata": {}
  },
  {
   "cell_type": "code",
   "execution_count": 4,
   "source": [
    "if __name__ == \"__main__\":\n",
    "    diamond = virus_pipeline.diamond_module.run(input)"
   ],
   "outputs": [
    {
     "output_type": "stream",
     "name": "stdout",
     "text": [
      "***** Start Annotation *****\n",
      "******** Start Subject 210512Alm_D21-203133_ ********\n",
      "***** Start Prodigal *****\n",
      "Finish prodigal, time usage: 55.61151432991028\n",
      "***** End Prodigal *****\n",
      "***** Start Diamond *****\n",
      "Finish diamond, time usage: 2018.096934080124\n",
      "***** End Diamond *****\n",
      "***** Start Blast2RMA *****\n",
      "***** End Blast2RMA *****\n",
      "******** Start Subject 210512Alm_D21-203133_ ********\n",
      "******** Start Subject 210512Alm_D21-203134_ ********\n",
      "***** Start Prodigal *****\n",
      "Finish prodigal, time usage: 106.085932970047\n",
      "***** End Prodigal *****\n",
      "***** Start Diamond *****\n",
      "Finish diamond, time usage: 1556.098572254181\n",
      "***** End Diamond *****\n",
      "***** Start Blast2RMA *****\n",
      "***** End Blast2RMA *****\n",
      "******** Start Subject 210512Alm_D21-203134_ ********\n",
      "******** Start Subject 210512Alm_D21-203348_ ********\n",
      "***** Start Prodigal *****\n",
      "Finish prodigal, time usage: 0.0013303756713867188\n",
      "***** End Prodigal *****\n",
      "***** Start Diamond *****\n",
      "Finish diamond, time usage: 2680.6484122276306\n",
      "***** End Diamond *****\n",
      "***** Start Blast2RMA *****\n",
      "***** End Blast2RMA *****\n",
      "******** Start Subject 210512Alm_D21-203348_ ********\n",
      "******** Start Subject 210512Alm_D21-203350_ ********\n",
      "***** Start Prodigal *****\n",
      "Finish prodigal, time usage: 0.0012829303741455078\n",
      "***** End Prodigal *****\n",
      "***** Start Diamond *****\n",
      "Finish diamond, time usage: 1944.2789494991302\n",
      "***** End Diamond *****\n",
      "***** Start Blast2RMA *****\n",
      "***** End Blast2RMA *****\n",
      "******** Start Subject 210512Alm_D21-203350_ ********\n"
     ]
    }
   ],
   "metadata": {}
  },
  {
   "cell_type": "code",
   "execution_count": null,
   "source": [],
   "outputs": [],
   "metadata": {}
  }
 ],
 "metadata": {
  "orig_nbformat": 4,
  "language_info": {
   "name": "python",
   "version": "3.7.3",
   "mimetype": "text/x-python",
   "codemirror_mode": {
    "name": "ipython",
    "version": 3
   },
   "pygments_lexer": "ipython3",
   "nbconvert_exporter": "python",
   "file_extension": ".py"
  },
  "kernelspec": {
   "name": "python3",
   "display_name": "Python 3.7.3 64-bit ('meta': conda)"
  },
  "interpreter": {
   "hash": "9965daa56d8ac37f9b50076a7fe7a66f1807509a06cc65bc402b9e261a3c2ee5"
  }
 },
 "nbformat": 4,
 "nbformat_minor": 2
}