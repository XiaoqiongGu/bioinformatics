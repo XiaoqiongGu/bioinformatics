{
 "cells": [
  {
   "cell_type": "code",
   "execution_count": 1,
   "id": "essential-royalty",
   "metadata": {},
   "outputs": [],
   "source": [
    "from metavirus import pipeline\n",
    "import os\n",
    "import time\n",
    "import multiprocessing"
   ]
  },
  {
   "cell_type": "code",
   "execution_count": 2,
   "id": "retired-chance",
   "metadata": {},
   "outputs": [],
   "source": [
    "input_dir = '/data2/xiaoqiong/scelse/input'\n",
    "virus_pipeline = pipeline.virus_NO1('analysis', input_dir)"
   ]
  },
  {
   "cell_type": "code",
   "execution_count": 33,
   "id": "loved-projection",
   "metadata": {},
   "outputs": [],
   "source": [
    "if __name__ == \"__main__\":\n",
    "\n",
    "    input_files = virus_pipeline.readin_module.run(input_dir)\n",
    "    adapter_files = virus_pipeline.adapter_module.run(input_files)\n",
    "    phix_files = virus_pipeline.phix_module.run(adapter_files)\n",
    "    #primer_files = virus_pipeline.primer_module.run(phix_files)\n",
    "    #human_files = virus_pipeline.human_module.run(primer_files)\n",
    "    virus_pipeline.fastq_module.run(phix_files)\n",
    "    megahit_cross = virus_pipeline.megahit_module.run_cross(phix_files)\n",
    "    virus_pipeline.diamond_module.run(megahit_cross)"
   ]
  },
  {
   "cell_type": "code",
   "execution_count": 3,
   "id": "accomplished-evanescence",
   "metadata": {},
   "outputs": [],
   "source": [
    "phix_files = [['/data2/xiaoqiong/scelse/analysis/phix/T1_R1.fq.gz',\n",
    "  '/data2/xiaoqiong/scelse/analysis/phix/T1_R2.fq.gz'],\n",
    " ['/data2/xiaoqiong/scelse/analysis/phix/A1_R1.fq.gz',\n",
    "  '/data2/xiaoqiong/scelse/analysis/phix/A1_R2.fq.gz'],\n",
    " ['/data2/xiaoqiong/scelse/analysis/phix/A2_R1.fq.gz',\n",
    "  '/data2/xiaoqiong/scelse/analysis/phix/A2_R2.fq.gz'],\n",
    " ['/data2/xiaoqiong/scelse/analysis/phix/N_R1.fq.gz',\n",
    "  '/data2/xiaoqiong/scelse/analysis/phix/N_R2.fq.gz'],\n",
    " ['/data2/xiaoqiong/scelse/analysis/phix/E4_R1.fq.gz',\n",
    "  '/data2/xiaoqiong/scelse/analysis/phix/E4_R2.fq.gz'],\n",
    " ['/data2/xiaoqiong/scelse/analysis/phix/T2_R1.fq.gz',\n",
    "  '/data2/xiaoqiong/scelse/analysis/phix/T2_R2.fq.gz']]"
   ]
  },
  {
   "cell_type": "code",
   "execution_count": 2,
   "id": "executive-asbestos",
   "metadata": {},
   "outputs": [],
   "source": [
    "# megahit_cross = '/data2/xiaoqiong/scelse/analysis/megahit/cross/cross.contigs.fasta'\n",
    "# virus_pipeline.diamond_module.run(megahit_cross)"
   ]
  },
  {
   "cell_type": "code",
   "execution_count": 9,
   "id": "unusual-physiology",
   "metadata": {},
   "outputs": [],
   "source": [
    "cross_database = '/data2/xiaoqiong/scelse/analysis/bowtie2/bowtie_database/cross_database'\n",
    "human_rnaviruses = '/data2/xiaoqiong/scelse/analysis/bowtie2/bowtie_database/human_rnaviruses_database'\n",
    "bowtie_target_dir = '/data2/xiaoqiong/scelse/analysis/bowtie2/bowtie_result/'\n",
    "\n",
    "#cross_databse = virus_pipeline.bowtie2_module.build_database(megahit_cross)\n",
    "#virus_pipeline.bowtie2_module.run(phix_files, cross_database, bowtie_target_dir = '/data2/xiaoqiong/scelse/analysis/bowtie2/bowtie_result/')"
   ]
  },
  {
   "cell_type": "code",
   "execution_count": 1,
   "id": "hollow-tunisia",
   "metadata": {},
   "outputs": [],
   "source": [
    "b1617 = ['/data2/xiaoqiong/scelse/analysis/rnaviralref/lineage_B_1_617_2.fasta']\n",
    "b1617_targetbowtie2 = '/data2/xiaoqiong/scelse/analysis/rnaviralref/bowtie2'\n",
    "#virus_pipeline.bowtie2_module.build_database(b1617,database_target_dir='/data2/xiaoqiong/scelse/analysis/rnaviralref/bowtie2')"
   ]
  }
 ],
 "metadata": {
  "kernelspec": {
   "display_name": "Python 3",
   "language": "python",
   "name": "python3"
  },
  "language_info": {
   "codemirror_mode": {
    "name": "ipython",
    "version": 3
   },
   "file_extension": ".py",
   "mimetype": "text/x-python",
   "name": "python",
   "nbconvert_exporter": "python",
   "pygments_lexer": "ipython3",
   "version": "3.6.10"
  }
 },
 "nbformat": 4,
 "nbformat_minor": 5
}
