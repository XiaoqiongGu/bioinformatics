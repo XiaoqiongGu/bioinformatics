{
 "cells": [
  {
   "cell_type": "code",
   "execution_count": 6,
   "metadata": {},
   "outputs": [],
   "source": [
    "from metavirus import pipeline\n",
    "import os\n",
    "import time\n",
    "import multiprocessing"
   ]
  },
  {
   "cell_type": "code",
   "execution_count": 7,
   "metadata": {},
   "outputs": [],
   "source": [
    "input_dir = '/data2/xiaoqiong/augmentin_meta_rawdata'\n",
    "virus_pipeline = pipeline.virus_NO2('augmentin_meta', input_dir, \n",
    "                                    project_dir='/data2/xiaoqiong/augmentin_meta_rawdata')"
   ]
  },
  {
   "cell_type": "code",
   "execution_count": 9,
   "metadata": {},
   "outputs": [
    {
     "ename": "NameError",
     "evalue": "name 'primer_files' is not defined",
     "output_type": "error",
     "traceback": [
      "\u001b[0;31m---------------------------------------------------------------------------\u001b[0m",
      "\u001b[0;31mNameError\u001b[0m                                 Traceback (most recent call last)",
      "\u001b[0;32m<ipython-input-9-e52f46dd55f8>\u001b[0m in \u001b[0;36m<module>\u001b[0;34m\u001b[0m\n\u001b[1;32m      5\u001b[0m     \u001b[0mphix_files\u001b[0m \u001b[0;34m=\u001b[0m \u001b[0mvirus_pipeline\u001b[0m\u001b[0;34m.\u001b[0m\u001b[0mphix_module\u001b[0m\u001b[0;34m.\u001b[0m\u001b[0mrun\u001b[0m\u001b[0;34m(\u001b[0m\u001b[0madapter_files\u001b[0m\u001b[0;34m)\u001b[0m\u001b[0;34m\u001b[0m\u001b[0;34m\u001b[0m\u001b[0m\n\u001b[1;32m      6\u001b[0m     \u001b[0mhuman_files\u001b[0m \u001b[0;34m=\u001b[0m \u001b[0mvirus_pipeline\u001b[0m\u001b[0;34m.\u001b[0m\u001b[0mhuman_module\u001b[0m\u001b[0;34m.\u001b[0m\u001b[0mrun\u001b[0m\u001b[0;34m(\u001b[0m\u001b[0mphix_files\u001b[0m\u001b[0;34m)\u001b[0m\u001b[0;34m\u001b[0m\u001b[0;34m\u001b[0m\u001b[0m\n\u001b[0;32m----> 7\u001b[0;31m     \u001b[0mvirus_pipeline\u001b[0m\u001b[0;34m.\u001b[0m\u001b[0mfastq_module\u001b[0m\u001b[0;34m.\u001b[0m\u001b[0mrun\u001b[0m\u001b[0;34m(\u001b[0m\u001b[0mprimer_files\u001b[0m\u001b[0;34m)\u001b[0m\u001b[0;34m\u001b[0m\u001b[0;34m\u001b[0m\u001b[0m\n\u001b[0m",
      "\u001b[0;31mNameError\u001b[0m: name 'primer_files' is not defined"
     ]
    }
   ],
   "source": [
    "if __name__ == \"__main__\":\n",
    "\n",
    "    input_files = virus_pipeline.readin_module.run(input_dir)\n",
    "    adapter_files = virus_pipeline.adapter_module.run(input_files)\n",
    "    phix_files = virus_pipeline.phix_module.run(adapter_files)\n",
    "    human_files = virus_pipeline.human_module.run(phix_files)\n",
    "    virus_pipeline.fastq_module.run(primer_files)"
   ]
  }
 ],
 "metadata": {
  "interpreter": {
   "hash": "9965daa56d8ac37f9b50076a7fe7a66f1807509a06cc65bc402b9e261a3c2ee5"
  },
  "kernelspec": {
   "display_name": "Python 3",
   "language": "python",
   "name": "python3"
  },
  "language_info": {
   "codemirror_mode": {
    "name": "ipython",
    "version": 3
   },
   "file_extension": ".py",
   "mimetype": "text/x-python",
   "name": "python",
   "nbconvert_exporter": "python",
   "pygments_lexer": "ipython3",
   "version": "3.6.10"
  }
 },
 "nbformat": 4,
 "nbformat_minor": 4
}
